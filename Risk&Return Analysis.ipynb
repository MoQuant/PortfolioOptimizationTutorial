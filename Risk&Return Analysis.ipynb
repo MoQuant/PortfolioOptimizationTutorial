{
 "cells": [
  {
   "cell_type": "markdown",
   "id": "697c5fb1",
   "metadata": {},
   "source": [
    "# Portfolio Optimization with Markowitz Model"
   ]
  },
  {
   "cell_type": "markdown",
   "id": "76f45e5f",
   "metadata": {},
   "source": [
    "In this tutorial, we will be examining how to construct Efficient frontier curves to historical risk and return data regarding Stocks and Cryptocurrencies. The first thing we will need to do however is go over the optimization process in order to see the formula where we will be inputting data into. To start off, the min-variance portfolio at the target rate is a result of the portfolio variance minimized. We will need to use lagrange optimization to solve this problem."
   ]
  },
  {
   "cell_type": "markdown",
   "id": "fede666c",
   "metadata": {},
   "source": [
    "1. Define your optimization problem <br/><br/>\n",
    "<center> $ \\begin{matrix} min&w^T\\Sigma w \\\\ s.t. & w^T\\mu = r_t \\\\ & w^T1 = 1\\end{matrix} $ </center>"
   ]
  },
  {
   "cell_type": "markdown",
   "id": "234e6223",
   "metadata": {},
   "source": [
    "2. Use Lagrange optimization to solve this problem <br/><br/>\n",
    "<center> $ L(w,\\lambda_1,\\lambda_2) = w^T\\Sigma w + \\lambda_1(w^T\\mu - r_t) + \\lambda_2(w^T1 - 1) $ </center>"
   ]
  },
  {
   "cell_type": "markdown",
   "id": "0c85a06f",
   "metadata": {},
   "source": [
    "3. Calculate the gradient of the Lagrange equation <br/><br/>\n",
    "<center> $ \\nabla{L} = \\begin{bmatrix} \\dfrac{\\partial{L}}{\\partial{w}} = 2\\Sigma w + \\lambda_1\\mu + \\lambda_2 1 = 0 \\\\ \\\\ \\dfrac{\\partial{L}}{\\partial{\\lambda_1}} = w^T\\mu - r_t = 0\\\\ \\\\ \\dfrac{\\partial{L}}{\\partial{\\lambda_2}} = w^T1 - 1 = 0 \\end{bmatrix} $ </center>"
   ]
  },
  {
   "cell_type": "markdown",
   "id": "26cc9ece",
   "metadata": {},
   "source": [
    "4. Arrange gradient of the Lagrange derivatives into a matrix <br/><br/>\n",
    "<center> $ \\begin{bmatrix} 2\\Sigma & \\mu & 1 \\\\ \\mu^T & 0 & 0 \\\\ 1^T & 0 & 0 \\end{bmatrix} \\begin{bmatrix} w \\\\ \\lambda_1 \\\\ \\lambda_2 \\end{bmatrix} = \\begin{bmatrix} 0 \\\\ r_t \\\\ 1 \\end{bmatrix} $ </center>"
   ]
  },
  {
   "cell_type": "markdown",
   "id": "66f81390",
   "metadata": {},
   "source": [
    "5. Solve for the values 'w'<br/><br/>\n",
    "\n",
    "<center> $ \\begin{bmatrix} 2\\Sigma & \\mu & 1 \\\\ \\mu^T & 0 & 0 \\\\ 1^T & 0 & 0 \\end{bmatrix}^{-1} \\begin{bmatrix} 0 \\\\ r_t \\\\ 1 \\end{bmatrix} = \\begin{bmatrix} w \\\\ \\lambda_1 \\\\ \\lambda_2 \\end{bmatrix} $ </center>"
   ]
  },
  {
   "cell_type": "markdown",
   "id": "8442e899",
   "metadata": {},
   "source": [
    "We now know how multivariable Portfolio Optimization works, now we will put it to full use in the next portions of this video."
   ]
  },
  {
   "cell_type": "code",
   "execution_count": 1,
   "id": "93e875ee",
   "metadata": {},
   "outputs": [],
   "source": [
    "import numpy as np\n",
    "import matplotlib.pyplot as plt\n",
    "from MarketData import stocks, crypto"
   ]
  },
  {
   "cell_type": "code",
   "execution_count": 2,
   "id": "2ee082c6",
   "metadata": {},
   "outputs": [],
   "source": [
    "stock_tickers = ['GS','JPM','AAPL','MSFT','JNJ','VZ']\n",
    "crypto_tickers = ['BTC-USD','ETH-USD','LTC-USD','ADA-USD','ETC-USD','LINK-USD']\n",
    "total_tickers = stock_tickers + crypto_tickers"
   ]
  },
  {
   "cell_type": "code",
   "execution_count": 12,
   "id": "e952ed7e",
   "metadata": {},
   "outputs": [
    {
     "name": "stdout",
     "output_type": "stream",
     "text": [
      "Time Range:  2021-11-06T18:11:53Z 2022-09-01T18:11:53Z\n",
      "Time Range:  2021-01-11T17:11:53Z 2021-11-06T18:11:53Z\n",
      "Time Range:  2020-03-18T18:11:53Z 2021-01-11T17:11:53Z\n",
      "Time Range:  2019-05-24T18:11:53Z 2020-03-18T18:11:53Z\n",
      "Time Range:  2018-07-29T18:11:53Z 2019-05-24T18:11:53Z\n",
      "Time Range:  2017-10-03T18:11:53Z 2018-07-29T18:11:53Z\n",
      "Time Range:  2016-12-08T17:11:53Z 2017-10-03T18:11:53Z\n",
      "Time Range:  2016-02-13T17:11:53Z 2016-12-08T17:11:53Z\n",
      "Time Range:  2021-11-06T18:11:54Z 2022-09-01T18:11:54Z\n",
      "Time Range:  2021-01-11T17:11:54Z 2021-11-06T18:11:54Z\n",
      "Time Range:  2020-03-18T18:11:54Z 2021-01-11T17:11:54Z\n",
      "Time Range:  2019-05-24T18:11:54Z 2020-03-18T18:11:54Z\n",
      "Time Range:  2018-07-29T18:11:54Z 2019-05-24T18:11:54Z\n",
      "Time Range:  2017-10-03T18:11:54Z 2018-07-29T18:11:54Z\n",
      "Time Range:  2016-12-08T17:11:54Z 2017-10-03T18:11:54Z\n",
      "Time Range:  2016-02-13T17:11:54Z 2016-12-08T17:11:54Z\n",
      "Time Range:  2021-11-06T18:11:55Z 2022-09-01T18:11:55Z\n",
      "Time Range:  2021-01-11T17:11:55Z 2021-11-06T18:11:55Z\n",
      "Time Range:  2020-03-18T18:11:55Z 2021-01-11T17:11:55Z\n",
      "Time Range:  2019-05-24T18:11:55Z 2020-03-18T18:11:55Z\n",
      "Time Range:  2018-07-29T18:11:55Z 2019-05-24T18:11:55Z\n",
      "Time Range:  2017-10-03T18:11:55Z 2018-07-29T18:11:55Z\n",
      "Time Range:  2016-12-08T17:11:55Z 2017-10-03T18:11:55Z\n",
      "Time Range:  2016-02-13T17:11:55Z 2016-12-08T17:11:55Z\n",
      "Time Range:  2021-11-06T18:11:56Z 2022-09-01T18:11:56Z\n",
      "Time Range:  2021-01-11T17:11:56Z 2021-11-06T18:11:56Z\n",
      "Time Range:  2020-03-18T18:11:56Z 2021-01-11T17:11:56Z\n",
      "Time Range:  2019-05-24T18:11:56Z 2020-03-18T18:11:56Z\n",
      "Time Range:  2018-07-29T18:11:56Z 2019-05-24T18:11:56Z\n",
      "Time Range:  2017-10-03T18:11:56Z 2018-07-29T18:11:56Z\n",
      "Time Range:  2016-12-08T17:11:56Z 2017-10-03T18:11:56Z\n",
      "Time Range:  2016-02-13T17:11:56Z 2016-12-08T17:11:56Z\n",
      "Time Range:  2021-11-06T18:11:57Z 2022-09-01T18:11:57Z\n",
      "Time Range:  2021-01-11T17:11:57Z 2021-11-06T18:11:57Z\n",
      "Time Range:  2020-03-18T18:11:57Z 2021-01-11T17:11:57Z\n",
      "Time Range:  2019-05-24T18:11:57Z 2020-03-18T18:11:57Z\n",
      "Time Range:  2018-07-29T18:11:57Z 2019-05-24T18:11:57Z\n",
      "Time Range:  2017-10-03T18:11:57Z 2018-07-29T18:11:57Z\n",
      "Time Range:  2016-12-08T17:11:57Z 2017-10-03T18:11:57Z\n",
      "Time Range:  2016-02-13T17:11:57Z 2016-12-08T17:11:57Z\n",
      "Time Range:  2021-11-06T18:11:58Z 2022-09-01T18:11:58Z\n",
      "Time Range:  2021-01-11T17:11:58Z 2021-11-06T18:11:58Z\n",
      "Time Range:  2020-03-18T18:11:58Z 2021-01-11T17:11:58Z\n",
      "Time Range:  2019-05-24T18:11:58Z 2020-03-18T18:11:58Z\n",
      "Time Range:  2018-07-29T18:11:58Z 2019-05-24T18:11:58Z\n",
      "Time Range:  2017-10-03T18:11:58Z 2018-07-29T18:11:58Z\n",
      "Time Range:  2016-12-08T17:11:58Z 2017-10-03T18:11:58Z\n",
      "Time Range:  2016-02-13T17:11:58Z 2016-12-08T17:11:58Z\n"
     ]
    }
   ],
   "source": [
    "stock_data = stocks(stock_tickers)\n",
    "crypto_data = crypto(crypto_tickers)"
   ]
  },
  {
   "cell_type": "code",
   "execution_count": 22,
   "id": "015ced18",
   "metadata": {},
   "outputs": [
    {
     "name": "stdout",
     "output_type": "stream",
     "text": [
      "2022-09-01 08-31-2022 20:00:00\n"
     ]
    }
   ],
   "source": [
    "stop = 400\n",
    "\n",
    "stock_close = [stock_data[ticker]['adjClose'].values.tolist()[:stop] for ticker in stock_tickers]\n",
    "crypto_close = [crypto_data[ticker]['Close'].values.tolist()[:stop] for ticker in crypto_tickers]\n",
    "stock_time = stock_data['GS']['date'].values.tolist()[:stop]\n",
    "crypto_time = crypto_data['BTC-USD']['Time'].values.tolist()[:stop]\n",
    "\n",
    "print(stock_time[0], crypto_time[0])"
   ]
  },
  {
   "cell_type": "code",
   "execution_count": 38,
   "id": "5600b8aa",
   "metadata": {},
   "outputs": [],
   "source": [
    "def match_assets(sC, cC, sT, cT):\n",
    "    sC = np.array(sC).T.tolist()\n",
    "    cC = np.array(cC).T.tolist()\n",
    "    def trim(i):\n",
    "        f = i.split(' ')[0]\n",
    "        r = f.split('-')\n",
    "        s = '{}-{}-{}'.format(r[-1], r[0], r[1])\n",
    "        return s\n",
    "    dW = [trim(k) for k in cT]\n",
    "    hold = []\n",
    "    for a, i in enumerate(sT):\n",
    "        try:\n",
    "            ix = dW.index(i)\n",
    "            hold.append([a, ix])\n",
    "        except:\n",
    "            pass\n",
    "    both = []\n",
    "    stk = []\n",
    "    crp = []\n",
    "    for (m, n) in hold:\n",
    "        #print(sT[m], dW[n])\n",
    "        both.append(sC[m] + cC[n])\n",
    "        stk.append(sC[m])\n",
    "        crp.append(cC[n])\n",
    "    z = [np.array(xx) for xx in (both, stk, crp)]\n",
    "    return z\n",
    "    \n",
    "both, stk, crp = match_assets(stock_close, crypto_close, stock_time, crypto_time)"
   ]
  },
  {
   "cell_type": "code",
   "execution_count": 41,
   "id": "ec9f0dd0",
   "metadata": {},
   "outputs": [
    {
     "name": "stdout",
     "output_type": "stream",
     "text": [
      "(277, 12) (277, 6) (277, 6)\n"
     ]
    }
   ],
   "source": [
    "print(both.shape, stk.shape, crp.shape)"
   ]
  },
  {
   "cell_type": "markdown",
   "id": "c2295bb1",
   "metadata": {},
   "source": [
    "### Statistics Portion\n",
    "\n",
    "Covariance Matrix\n",
    "<center> $ \\Sigma = \\dfrac{1}{m-1}(x - \\hat{x})^T(x - \\hat{x}) $ </center><br/><br/>\n",
    "\n",
    "Optimization Matrix\n",
    "<center> $ \\begin{bmatrix} 2\\Sigma & \\mu & 1 \\\\ \\mu^T & 0 & 0 \\\\ 1^T & 0 & 0 \\end{bmatrix}^{-1} \\begin{bmatrix} 0 \\\\ r_t \\\\ 1 \\end{bmatrix} = \\begin{bmatrix} w \\\\ \\lambda_1 \\\\ \\lambda_2 \\end{bmatrix} $ </center>"
   ]
  },
  {
   "cell_type": "code",
   "execution_count": 43,
   "id": "81fed0f5",
   "metadata": {},
   "outputs": [],
   "source": [
    "rorBoth = both[:-1]/both[1:] - 1\n",
    "rorStock = stk[:-1]/stk[1:] - 1\n",
    "rorCrypto = crp[:-1]/crp[1:] - 1"
   ]
  },
  {
   "cell_type": "code",
   "execution_count": 57,
   "id": "22b1448e",
   "metadata": {},
   "outputs": [],
   "source": [
    "def stats(x):\n",
    "    m, n = x.shape\n",
    "    mu = (1/m)*np.ones(m).dot(x)\n",
    "    cov = (1/(m-1))*(x - mu).T.dot(x - mu)\n",
    "    sd = np.sqrt(np.diag(cov))\n",
    "    return sd, mu, cov\n",
    "    \n",
    "def optimize(x, r):\n",
    "    m, n = x.shape\n",
    "    sd, mu, cov = stats(x)\n",
    "    E = (2*cov).tolist()\n",
    "    for i in range(n):\n",
    "        E[i].append(mu[i])\n",
    "        E[i].append(1)\n",
    "    E.append(mu.tolist() + [0, 0])\n",
    "    E.append(np.ones(n).tolist() + [0, 0])\n",
    "    Z = np.array(E)\n",
    "    Y = np.array([[0] for i in mu] + [[r], [1]])\n",
    "    return np.linalg.inv(Z).dot(Y)[:-2]\n",
    "    \n",
    "def EF(x):\n",
    "    sd, mu, cov = stats(x)\n",
    "    m0, m1 = np.min(mu), np.max(mu)\n",
    "    n = 30\n",
    "    dM = (m1 - m0)/(n - 1)\n",
    "    ux, uy = [], []\n",
    "    for i in range(n):\n",
    "        rs = m0 + i*dM\n",
    "        w = optimize(x, rs)\n",
    "        stdev = np.sqrt(w.T.dot(cov.dot(w))[0][0])\n",
    "        returns = w.T.dot(mu)[0]\n",
    "        ux.append(stdev)\n",
    "        uy.append(returns)\n",
    "    return ux, uy"
   ]
  },
  {
   "cell_type": "code",
   "execution_count": 64,
   "id": "006f08c4",
   "metadata": {},
   "outputs": [
    {
     "data": {
      "text/plain": [
       "[<matplotlib.lines.Line2D at 0x7fedf13a49a0>]"
      ]
     },
     "execution_count": 64,
     "metadata": {},
     "output_type": "execute_result"
    },
    {
     "data": {
      "image/png": "[encoded data removed]",
      "text/plain": [
       "<Figure size 864x504 with 1 Axes>"
      ]
     },
     "metadata": {
      "needs_background": "light"
     },
     "output_type": "display_data"
    }
   ],
   "source": [
    "ror_both_sd, ror_both_mu, ror_both_cov = stats(rorBoth)\n",
    "\n",
    "fig = plt.figure(figsize=(12, 7))\n",
    "ax = fig.add_subplot(111)\n",
    "\n",
    "ax.scatter(ror_both_sd, ror_both_mu, color='blue')\n",
    "\n",
    "for ticker, stdev, mean in zip(total_tickers, ror_both_sd, ror_both_mu):\n",
    "    ax.annotate(ticker, xy=(stdev, mean))\n",
    "    \n",
    "    \n",
    "bothX, bothY = EF(rorBoth)\n",
    "stkX, stkY = EF(rorStock)\n",
    "crpX, crpY = EF(rorCrypto)\n",
    "\n",
    "ax.plot(bothX, bothY, color='red')\n",
    "ax.plot(stkX, stkY, color='orange')\n",
    "ax.plot(crpX, crpY, color='purple')"
   ]
  },
  {
   "cell_type": "code",
   "execution_count": null,
   "id": "bfa0d61b",
   "metadata": {},
   "outputs": [],
   "source": []
  }
 ],
 "metadata": {
  "kernelspec": {
   "display_name": "Python 3 (ipykernel)",
   "language": "python",
   "name": "python3"
  },
  "language_info": {
   "codemirror_mode": {
    "name": "ipython",
    "version": 3
   },
   "file_extension": ".py",
   "mimetype": "text/x-python",
   "name": "python",
   "nbconvert_exporter": "python",
   "pygments_lexer": "ipython3",
   "version": "3.8.0"
  }
 },
 "nbformat": 4,
 "nbformat_minor": 5
}
